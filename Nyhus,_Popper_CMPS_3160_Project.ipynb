{
  "nbformat": 4,
  "nbformat_minor": 0,
  "metadata": {
    "colab": {
      "provenance": []
    },
    "kernelspec": {
      "name": "python3",
      "display_name": "Python 3"
    },
    "language_info": {
      "name": "python"
    }
  },
  "cells": [
    {
      "cell_type": "code",
      "execution_count": null,
      "metadata": {
        "id": "WNxyv5wUhPhI"
      },
      "outputs": [],
      "source": []
    },
    {
      "cell_type": "markdown",
      "source": [
        "####Make sure GitHub meets reqs"
      ],
      "metadata": {
        "id": "NBxupksmikC3"
      }
    },
    {
      "cell_type": "markdown",
      "source": [
        "https://github.com/nmattei/cmps3160/blob/master/_projects/nick_final.ipynb"
      ],
      "metadata": {
        "id": "LIri5Anth7a9"
      }
    },
    {
      "cell_type": "markdown",
      "source": [
        "**Project Goals**"
      ],
      "metadata": {
        "id": "GFTt13rghnj6"
      }
    },
    {
      "cell_type": "markdown",
      "source": [
        "\n",
        "Evan Nyhus and Isaac Popper will be collaborating to evaluate the effect of wingspan on success in the NBA."
      ],
      "metadata": {
        "id": "Tj6Mh0ezhenY"
      }
    },
    {
      "cell_type": "markdown",
      "source": [
        "**Collaboration Plan**"
      ],
      "metadata": {
        "id": "QYMvcmkChzPo"
      }
    },
    {
      "cell_type": "markdown",
      "source": [],
      "metadata": {
        "id": "vUN8TJ8Di0DL"
      }
    }
  ]
}
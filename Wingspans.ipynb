{
  "nbformat": 4,
  "nbformat_minor": 0,
  "metadata": {
    "colab": {
      "provenance": [],
      "include_colab_link": true
    },
    "kernelspec": {
      "name": "python3",
      "display_name": "Python 3"
    },
    "language_info": {
      "name": "python"
    }
  },
  "cells": [
    {
      "cell_type": "markdown",
      "metadata": {
        "id": "view-in-github",
        "colab_type": "text"
      },
      "source": [
        "<a href=\"https://colab.research.google.com/github/ipopStats/Nyhus_Popper_CMPS3160_Project/blob/main/Wingspans.ipynb\" target=\"_parent\"><img src=\"https://colab.research.google.com/assets/colab-badge.svg\" alt=\"Open In Colab\"/></a>"
      ]
    },
    {
      "cell_type": "markdown",
      "source": [
        "Evan Nyhus and Isaac Popper will be evaluating the effect of wingspan on success in the NBA. Our github can be found here: https://github.com/ipopStats/Nyhus_Popper_CMPS3160_Project"
      ],
      "metadata": {
        "id": "2oJP9LBpu4RI"
      }
    },
    {
      "cell_type": "markdown",
      "source": [
        "**Project Goals**"
      ],
      "metadata": {
        "id": "GFTt13rghnj6"
      }
    },
    {
      "cell_type": "markdown",
      "source": [
        "\n",
        "\n",
        "*   Learn how to use pandas library\n",
        "*   Create a data visualization project in Python\n",
        "*   Demonstrate why wingspan is an overlooked metric\n",
        "*   Demonstrate the overall impact of wingspan on not only the defensive side of the ball but on offense as well.\n",
        "\n",
        "\n"
      ],
      "metadata": {
        "id": "Tj6Mh0ezhenY"
      }
    },
    {
      "cell_type": "markdown",
      "source": [
        "**Collaboration Plan**"
      ],
      "metadata": {
        "id": "QYMvcmkChzPo"
      }
    },
    {
      "cell_type": "markdown",
      "source": [
        "We plan to meet once a week in the library to make progress combining the datasets, creating visualizations, and analyzing the data. We will meet on either on Thursday or Sunday evenings. We set up a private CoLab notebook so we can store our code and work on the project simultaneously. We will communicate through text message about when we will meet, and to help each other between meetings."
      ],
      "metadata": {
        "id": "vUN8TJ8Di0DL"
      }
    },
    {
      "cell_type": "markdown",
      "source": [
        "**Data Description**"
      ],
      "metadata": {
        "id": "-Y2ep87ZHJ-N"
      }
    },
    {
      "cell_type": "markdown",
      "source": [
        "We are seeking to examine the correlation between a player's wingspan and NBA success, with wingspan being the independent variable.\n",
        "\n",
        "Tal Boger, formerly of Dribble Analytics, created a comprehensive database of player wingspans for the 540 NBA players in 2017-2018. He took most player's anthrometric data from the NBA combine and gathered most of the rest from websites like DraftExpress. DraftExpress data points are highlighted in yellow, while data that is not from the draft data is highlighted in blue with the source specified. You can access it here: https://github.com/dribbleanalytics/wingspan-height-defense.\n",
        "\n",
        "Our second data source is FiveThirtyEight's modern RAPTOR database. RAPTOR is a player proposition value that draws from both player tracking and on-off NBA data. You can learn more about the algorithim here: https://fivethirtyeight.com/features/introducing-raptor-our-new-metric-for-the-modern-nba/. We will need to filter the dataset to 2017-2018. This will allow us to evaluate the impact wingspan has on player success. To eliminate noise and smooth the data, we will use 3 year averages to evaluate wingspan's impact on performance. You can access the data here: https://github.com/fivethirtyeight/data/blob/master/nba-raptor/.\n",
        "\n",
        "\n",
        "Our third data source is NBA.com's advanced stats. With the league collecting and providing these player tracking metrics, we can evaluate the importance of wingpan length in certain elements of the game. For example, we will see if wingspan is important in terms of defending 3-pointers. You can access this data here: https://www.nba.com/stats/players/defense-dash-3pt?Season=2018-19."
      ],
      "metadata": {
        "id": "uYl6w80OraoO"
      }
    },
    {
      "cell_type": "markdown",
      "source": [
        "**Code:**"
      ],
      "metadata": {
        "id": "xAeqt6PS851-"
      }
    },
    {
      "cell_type": "code",
      "source": [
        "import pandas as pd\n",
        "import numpy as np\n",
        "import re\n",
        "pd.set_option(\"display.max_rows\", None, \"display.max_columns\", None)\n",
        "\n",
        "from google.colab import drive\n",
        "drive.mount('/content/drive')"
      ],
      "metadata": {
        "colab": {
          "base_uri": "https://localhost:8080/"
        },
        "id": "gVSwR06dvOWZ",
        "outputId": "6aa7a378-916f-47cc-bd86-7606c864ee71"
      },
      "execution_count": null,
      "outputs": [
        {
          "output_type": "stream",
          "name": "stdout",
          "text": [
            "Mounted at /content/drive\n"
          ]
        }
      ]
    },
    {
      "cell_type": "markdown",
      "source": [
        "Table 1"
      ],
      "metadata": {
        "id": "wOP5v6ADs-qh"
      }
    },
    {
      "cell_type": "code",
      "source": [
        "wingspan = pd.read_csv(\"/content/drive/MyDrive/cmps3160/project/2018_Wingspans.csv\")\n",
        "wingspan.head() #Read csv and display first 5 rows\n",
        "\n"
      ],
      "metadata": {
        "colab": {
          "base_uri": "https://localhost:8080/",
          "height": 327
        },
        "id": "7PRNqjLG9Avt",
        "outputId": "706375da-9c46-407d-924e-611932487059"
      },
      "execution_count": null,
      "outputs": [
        {
          "output_type": "execute_result",
          "data": {
            "text/plain": [
              "   Num         Player Wingspan-ft-in Height-ft-in  Height-string-length  \\\n",
              "0    1   Alex Abrines         6' 6''       6' 5''                     6   \n",
              "1    2     Quincy Acy      7' 2.75''     6' 6.5''                     8   \n",
              "2    3   Steven Adams       7' 4.5''   6' 10.75''                    10   \n",
              "3    4    Bam Adebayo         7' 3''      6' 10''                     7   \n",
              "4    5  Arron Afflalo         6' 9''       6' 5''                     6   \n",
              "\n",
              "   Height-ft-only  Height-in-only  Wingspan-string-length  Wingspan-ft-only  \\\n",
              "0               6            5.00                       6                 6   \n",
              "1               6            6.50                       9                 7   \n",
              "2               6           10.75                       8                 7   \n",
              "3               6           10.00                       6                 7   \n",
              "4               6            5.00                       6                 6   \n",
              "\n",
              "   Wingspan-in-only  Wingspan-in  Height-in  \\\n",
              "0              6.00        78.00      77.00   \n",
              "1              2.75        86.75      78.50   \n",
              "2              4.50        88.50      82.75   \n",
              "3              3.00        87.00      82.00   \n",
              "4              9.00        81.00      77.00   \n",
              "\n",
              "  Source (if not Combine Anthrometric/DX)  \n",
              "0                         Bleacher Report  \n",
              "1                                     NaN  \n",
              "2                                     NaN  \n",
              "3                                     NaN  \n",
              "4                                  RealGM  "
            ],
            "text/html": [
              "\n",
              "  <div id=\"df-66585cb9-41e2-4a0a-9cf2-fa5021f4f8cc\" class=\"colab-df-container\">\n",
              "    <div>\n",
              "<style scoped>\n",
              "    .dataframe tbody tr th:only-of-type {\n",
              "        vertical-align: middle;\n",
              "    }\n",
              "\n",
              "    .dataframe tbody tr th {\n",
              "        vertical-align: top;\n",
              "    }\n",
              "\n",
              "    .dataframe thead th {\n",
              "        text-align: right;\n",
              "    }\n",
              "</style>\n",
              "<table border=\"1\" class=\"dataframe\">\n",
              "  <thead>\n",
              "    <tr style=\"text-align: right;\">\n",
              "      <th></th>\n",
              "      <th>Num</th>\n",
              "      <th>Player</th>\n",
              "      <th>Wingspan-ft-in</th>\n",
              "      <th>Height-ft-in</th>\n",
              "      <th>Height-string-length</th>\n",
              "      <th>Height-ft-only</th>\n",
              "      <th>Height-in-only</th>\n",
              "      <th>Wingspan-string-length</th>\n",
              "      <th>Wingspan-ft-only</th>\n",
              "      <th>Wingspan-in-only</th>\n",
              "      <th>Wingspan-in</th>\n",
              "      <th>Height-in</th>\n",
              "      <th>Source (if not Combine Anthrometric/DX)</th>\n",
              "    </tr>\n",
              "  </thead>\n",
              "  <tbody>\n",
              "    <tr>\n",
              "      <th>0</th>\n",
              "      <td>1</td>\n",
              "      <td>Alex Abrines</td>\n",
              "      <td>6' 6''</td>\n",
              "      <td>6' 5''</td>\n",
              "      <td>6</td>\n",
              "      <td>6</td>\n",
              "      <td>5.00</td>\n",
              "      <td>6</td>\n",
              "      <td>6</td>\n",
              "      <td>6.00</td>\n",
              "      <td>78.00</td>\n",
              "      <td>77.00</td>\n",
              "      <td>Bleacher Report</td>\n",
              "    </tr>\n",
              "    <tr>\n",
              "      <th>1</th>\n",
              "      <td>2</td>\n",
              "      <td>Quincy Acy</td>\n",
              "      <td>7' 2.75''</td>\n",
              "      <td>6' 6.5''</td>\n",
              "      <td>8</td>\n",
              "      <td>6</td>\n",
              "      <td>6.50</td>\n",
              "      <td>9</td>\n",
              "      <td>7</td>\n",
              "      <td>2.75</td>\n",
              "      <td>86.75</td>\n",
              "      <td>78.50</td>\n",
              "      <td>NaN</td>\n",
              "    </tr>\n",
              "    <tr>\n",
              "      <th>2</th>\n",
              "      <td>3</td>\n",
              "      <td>Steven Adams</td>\n",
              "      <td>7' 4.5''</td>\n",
              "      <td>6' 10.75''</td>\n",
              "      <td>10</td>\n",
              "      <td>6</td>\n",
              "      <td>10.75</td>\n",
              "      <td>8</td>\n",
              "      <td>7</td>\n",
              "      <td>4.50</td>\n",
              "      <td>88.50</td>\n",
              "      <td>82.75</td>\n",
              "      <td>NaN</td>\n",
              "    </tr>\n",
              "    <tr>\n",
              "      <th>3</th>\n",
              "      <td>4</td>\n",
              "      <td>Bam Adebayo</td>\n",
              "      <td>7' 3''</td>\n",
              "      <td>6' 10''</td>\n",
              "      <td>7</td>\n",
              "      <td>6</td>\n",
              "      <td>10.00</td>\n",
              "      <td>6</td>\n",
              "      <td>7</td>\n",
              "      <td>3.00</td>\n",
              "      <td>87.00</td>\n",
              "      <td>82.00</td>\n",
              "      <td>NaN</td>\n",
              "    </tr>\n",
              "    <tr>\n",
              "      <th>4</th>\n",
              "      <td>5</td>\n",
              "      <td>Arron Afflalo</td>\n",
              "      <td>6' 9''</td>\n",
              "      <td>6' 5''</td>\n",
              "      <td>6</td>\n",
              "      <td>6</td>\n",
              "      <td>5.00</td>\n",
              "      <td>6</td>\n",
              "      <td>6</td>\n",
              "      <td>9.00</td>\n",
              "      <td>81.00</td>\n",
              "      <td>77.00</td>\n",
              "      <td>RealGM</td>\n",
              "    </tr>\n",
              "  </tbody>\n",
              "</table>\n",
              "</div>\n",
              "    <div class=\"colab-df-buttons\">\n",
              "\n",
              "  <div class=\"colab-df-container\">\n",
              "    <button class=\"colab-df-convert\" onclick=\"convertToInteractive('df-66585cb9-41e2-4a0a-9cf2-fa5021f4f8cc')\"\n",
              "            title=\"Convert this dataframe to an interactive table.\"\n",
              "            style=\"display:none;\">\n",
              "\n",
              "  <svg xmlns=\"http://www.w3.org/2000/svg\" height=\"24px\" viewBox=\"0 -960 960 960\">\n",
              "    <path d=\"M120-120v-720h720v720H120Zm60-500h600v-160H180v160Zm220 220h160v-160H400v160Zm0 220h160v-160H400v160ZM180-400h160v-160H180v160Zm440 0h160v-160H620v160ZM180-180h160v-160H180v160Zm440 0h160v-160H620v160Z\"/>\n",
              "  </svg>\n",
              "    </button>\n",
              "\n",
              "  <style>\n",
              "    .colab-df-container {\n",
              "      display:flex;\n",
              "      gap: 12px;\n",
              "    }\n",
              "\n",
              "    .colab-df-convert {\n",
              "      background-color: #E8F0FE;\n",
              "      border: none;\n",
              "      border-radius: 50%;\n",
              "      cursor: pointer;\n",
              "      display: none;\n",
              "      fill: #1967D2;\n",
              "      height: 32px;\n",
              "      padding: 0 0 0 0;\n",
              "      width: 32px;\n",
              "    }\n",
              "\n",
              "    .colab-df-convert:hover {\n",
              "      background-color: #E2EBFA;\n",
              "      box-shadow: 0px 1px 2px rgba(60, 64, 67, 0.3), 0px 1px 3px 1px rgba(60, 64, 67, 0.15);\n",
              "      fill: #174EA6;\n",
              "    }\n",
              "\n",
              "    .colab-df-buttons div {\n",
              "      margin-bottom: 4px;\n",
              "    }\n",
              "\n",
              "    [theme=dark] .colab-df-convert {\n",
              "      background-color: #3B4455;\n",
              "      fill: #D2E3FC;\n",
              "    }\n",
              "\n",
              "    [theme=dark] .colab-df-convert:hover {\n",
              "      background-color: #434B5C;\n",
              "      box-shadow: 0px 1px 3px 1px rgba(0, 0, 0, 0.15);\n",
              "      filter: drop-shadow(0px 1px 2px rgba(0, 0, 0, 0.3));\n",
              "      fill: #FFFFFF;\n",
              "    }\n",
              "  </style>\n",
              "\n",
              "    <script>\n",
              "      const buttonEl =\n",
              "        document.querySelector('#df-66585cb9-41e2-4a0a-9cf2-fa5021f4f8cc button.colab-df-convert');\n",
              "      buttonEl.style.display =\n",
              "        google.colab.kernel.accessAllowed ? 'block' : 'none';\n",
              "\n",
              "      async function convertToInteractive(key) {\n",
              "        const element = document.querySelector('#df-66585cb9-41e2-4a0a-9cf2-fa5021f4f8cc');\n",
              "        const dataTable =\n",
              "          await google.colab.kernel.invokeFunction('convertToInteractive',\n",
              "                                                    [key], {});\n",
              "        if (!dataTable) return;\n",
              "\n",
              "        const docLinkHtml = 'Like what you see? Visit the ' +\n",
              "          '<a target=\"_blank\" href=https://colab.research.google.com/notebooks/data_table.ipynb>data table notebook</a>'\n",
              "          + ' to learn more about interactive tables.';\n",
              "        element.innerHTML = '';\n",
              "        dataTable['output_type'] = 'display_data';\n",
              "        await google.colab.output.renderOutput(dataTable, element);\n",
              "        const docLink = document.createElement('div');\n",
              "        docLink.innerHTML = docLinkHtml;\n",
              "        element.appendChild(docLink);\n",
              "      }\n",
              "    </script>\n",
              "  </div>\n",
              "\n",
              "\n",
              "<div id=\"df-2ecd33de-2471-47d0-b074-1374e95f4a9c\">\n",
              "  <button class=\"colab-df-quickchart\" onclick=\"quickchart('df-2ecd33de-2471-47d0-b074-1374e95f4a9c')\"\n",
              "            title=\"Suggest charts.\"\n",
              "            style=\"display:none;\">\n",
              "\n",
              "<svg xmlns=\"http://www.w3.org/2000/svg\" height=\"24px\"viewBox=\"0 0 24 24\"\n",
              "     width=\"24px\">\n",
              "    <g>\n",
              "        <path d=\"M19 3H5c-1.1 0-2 .9-2 2v14c0 1.1.9 2 2 2h14c1.1 0 2-.9 2-2V5c0-1.1-.9-2-2-2zM9 17H7v-7h2v7zm4 0h-2V7h2v10zm4 0h-2v-4h2v4z\"/>\n",
              "    </g>\n",
              "</svg>\n",
              "  </button>\n",
              "\n",
              "<style>\n",
              "  .colab-df-quickchart {\n",
              "      --bg-color: #E8F0FE;\n",
              "      --fill-color: #1967D2;\n",
              "      --hover-bg-color: #E2EBFA;\n",
              "      --hover-fill-color: #174EA6;\n",
              "      --disabled-fill-color: #AAA;\n",
              "      --disabled-bg-color: #DDD;\n",
              "  }\n",
              "\n",
              "  [theme=dark] .colab-df-quickchart {\n",
              "      --bg-color: #3B4455;\n",
              "      --fill-color: #D2E3FC;\n",
              "      --hover-bg-color: #434B5C;\n",
              "      --hover-fill-color: #FFFFFF;\n",
              "      --disabled-bg-color: #3B4455;\n",
              "      --disabled-fill-color: #666;\n",
              "  }\n",
              "\n",
              "  .colab-df-quickchart {\n",
              "    background-color: var(--bg-color);\n",
              "    border: none;\n",
              "    border-radius: 50%;\n",
              "    cursor: pointer;\n",
              "    display: none;\n",
              "    fill: var(--fill-color);\n",
              "    height: 32px;\n",
              "    padding: 0;\n",
              "    width: 32px;\n",
              "  }\n",
              "\n",
              "  .colab-df-quickchart:hover {\n",
              "    background-color: var(--hover-bg-color);\n",
              "    box-shadow: 0 1px 2px rgba(60, 64, 67, 0.3), 0 1px 3px 1px rgba(60, 64, 67, 0.15);\n",
              "    fill: var(--button-hover-fill-color);\n",
              "  }\n",
              "\n",
              "  .colab-df-quickchart-complete:disabled,\n",
              "  .colab-df-quickchart-complete:disabled:hover {\n",
              "    background-color: var(--disabled-bg-color);\n",
              "    fill: var(--disabled-fill-color);\n",
              "    box-shadow: none;\n",
              "  }\n",
              "\n",
              "  .colab-df-spinner {\n",
              "    border: 2px solid var(--fill-color);\n",
              "    border-color: transparent;\n",
              "    border-bottom-color: var(--fill-color);\n",
              "    animation:\n",
              "      spin 1s steps(1) infinite;\n",
              "  }\n",
              "\n",
              "  @keyframes spin {\n",
              "    0% {\n",
              "      border-color: transparent;\n",
              "      border-bottom-color: var(--fill-color);\n",
              "      border-left-color: var(--fill-color);\n",
              "    }\n",
              "    20% {\n",
              "      border-color: transparent;\n",
              "      border-left-color: var(--fill-color);\n",
              "      border-top-color: var(--fill-color);\n",
              "    }\n",
              "    30% {\n",
              "      border-color: transparent;\n",
              "      border-left-color: var(--fill-color);\n",
              "      border-top-color: var(--fill-color);\n",
              "      border-right-color: var(--fill-color);\n",
              "    }\n",
              "    40% {\n",
              "      border-color: transparent;\n",
              "      border-right-color: var(--fill-color);\n",
              "      border-top-color: var(--fill-color);\n",
              "    }\n",
              "    60% {\n",
              "      border-color: transparent;\n",
              "      border-right-color: var(--fill-color);\n",
              "    }\n",
              "    80% {\n",
              "      border-color: transparent;\n",
              "      border-right-color: var(--fill-color);\n",
              "      border-bottom-color: var(--fill-color);\n",
              "    }\n",
              "    90% {\n",
              "      border-color: transparent;\n",
              "      border-bottom-color: var(--fill-color);\n",
              "    }\n",
              "  }\n",
              "</style>\n",
              "\n",
              "  <script>\n",
              "    async function quickchart(key) {\n",
              "      const quickchartButtonEl =\n",
              "        document.querySelector('#' + key + ' button');\n",
              "      quickchartButtonEl.disabled = true;  // To prevent multiple clicks.\n",
              "      quickchartButtonEl.classList.add('colab-df-spinner');\n",
              "      try {\n",
              "        const charts = await google.colab.kernel.invokeFunction(\n",
              "            'suggestCharts', [key], {});\n",
              "      } catch (error) {\n",
              "        console.error('Error during call to suggestCharts:', error);\n",
              "      }\n",
              "      quickchartButtonEl.classList.remove('colab-df-spinner');\n",
              "      quickchartButtonEl.classList.add('colab-df-quickchart-complete');\n",
              "    }\n",
              "    (() => {\n",
              "      let quickchartButtonEl =\n",
              "        document.querySelector('#df-2ecd33de-2471-47d0-b074-1374e95f4a9c button');\n",
              "      quickchartButtonEl.style.display =\n",
              "        google.colab.kernel.accessAllowed ? 'block' : 'none';\n",
              "    })();\n",
              "  </script>\n",
              "</div>\n",
              "    </div>\n",
              "  </div>\n"
            ]
          },
          "metadata": {},
          "execution_count": 4
        }
      ]
    },
    {
      "cell_type": "code",
      "source": [
        "wingspan.dtypes\n",
        "#Mix of ints, objects, and floats. \"Num\" is the index."
      ],
      "metadata": {
        "colab": {
          "base_uri": "https://localhost:8080/"
        },
        "id": "5GgNcNzyJk-i",
        "outputId": "504a3589-8a20-41d8-bc87-594d811fd499"
      },
      "execution_count": null,
      "outputs": [
        {
          "output_type": "execute_result",
          "data": {
            "text/plain": [
              "Num                                          int64\n",
              "Player                                      object\n",
              "Wingspan-ft-in                              object\n",
              "Height-ft-in                                object\n",
              "Height-string-length                         int64\n",
              "Height-ft-only                               int64\n",
              "Height-in-only                             float64\n",
              "Wingspan-string-length                       int64\n",
              "Wingspan-ft-only                             int64\n",
              "Wingspan-in-only                           float64\n",
              "Wingspan-in                                float64\n",
              "Height-in                                  float64\n",
              "Source (if not Combine Anthrometric/DX)     object\n",
              "dtype: object"
            ]
          },
          "metadata": {},
          "execution_count": 5
        }
      ]
    },
    {
      "cell_type": "code",
      "source": [
        "import matplotlib.pyplot as plt\n",
        "plt.figure(figsize=(8, 6))\n",
        "plt.scatter(wingspan['Height-in'], wingspan['Wingspan-in'], color='blue', label='Players')\n",
        "plt.xlabel('Height (inches)')\n",
        "plt.ylabel('Wingspan (inches)')\n",
        "plt.title('Height vs. Wingspan')\n",
        "plt.grid(True)\n",
        "plt.legend()\n",
        "plt.show()\n",
        "\n",
        "# The two variables chosen for the scatterplot analysis were Height and Wingspan because it is important to check if a relation between both variables exists.\n",
        "# If a meaningful correlation is established between wingspan and a players comprehensive value score, it must be assumed that height also has a role to play in that success.\n",
        "# It is also important to see how  high the correlation is between Height and Wingspan before regressing player statistics onto wingspan.\n",
        "\n",
        "correlation = wingspan['Height-in'].corr(wingspan['Wingspan-in'])\n",
        "correlation = round(correlation, 2)\n",
        "print(f\"Correlation: {correlation}\")\n",
        "# The correlation between height in wingspan is 0.81. There is a strong positive linear relationship between the two variables.\n"
      ],
      "metadata": {
        "colab": {
          "base_uri": "https://localhost:8080/",
          "height": 581
        },
        "id": "tGt-FfonMLpK",
        "outputId": "78c95ff1-f17e-4ed0-dadf-6081a88004f7"
      },
      "execution_count": null,
      "outputs": [
        {
          "output_type": "display_data",
          "data": {
            "text/plain": [
              "<Figure size 800x600 with 1 Axes>"
            ],
            "image/png": "[encoded data removed]"
          },
          "metadata": {}
        },
        {
          "output_type": "stream",
          "name": "stdout",
          "text": [
            "Correlation: 0.81\n"
          ]
        }
      ]
    },
    {
      "cell_type": "code",
      "source": [
        "height_stats = wingspan['Height-in'].describe()\n",
        "wingspan_stats = wingspan['Wingspan-in'].describe()\n",
        "\n",
        "print(\"Height Summary Statistics:\")\n",
        "print(height_stats)\n",
        "print(\"\\nWingspan Summary Statistics:\")\n",
        "print(wingspan_stats)\n",
        "\n",
        "# The summary statistics show that both data sets have 540 players, with wingspans being about 4 inches longer than a player's height, on average.\n",
        "# The highest wingspan of 92.5 inches is 5.5 inches greater than the tallest height."
      ],
      "metadata": {
        "colab": {
          "base_uri": "https://localhost:8080/"
        },
        "id": "gE18Ya_NMuX0",
        "outputId": "1a1072bb-aa1f-41c0-b88b-e3ec89c78991"
      },
      "execution_count": null,
      "outputs": [
        {
          "output_type": "stream",
          "name": "stdout",
          "text": [
            "Height Summary Statistics:\n",
            "count    540.000000\n",
            "mean      78.200926\n",
            "std        3.397983\n",
            "min       68.250000\n",
            "25%       76.000000\n",
            "50%       78.250000\n",
            "75%       80.750000\n",
            "max       87.000000\n",
            "Name: Height-in, dtype: float64\n",
            "\n",
            "Wingspan Summary Statistics:\n",
            "count    540.000000\n",
            "mean      82.501111\n",
            "std        3.949275\n",
            "min       70.750000\n",
            "25%       79.750000\n",
            "50%       82.750000\n",
            "75%       85.250000\n",
            "max       92.500000\n",
            "Name: Wingspan-in, dtype: float64\n"
          ]
        }
      ]
    },
    {
      "cell_type": "code",
      "source": [],
      "metadata": {
        "id": "1Lu4F0LBkjxu"
      },
      "execution_count": null,
      "outputs": []
    },
    {
      "cell_type": "code",
      "source": [
        "%%shell\n",
        "jupyter nbconvert --to html /content/drive/MyDrive/Nyhus_Popper_Notebook.ipynb"
      ],
      "metadata": {
        "id": "HD9NKriy_zu7",
        "outputId": "96b2cf60-ac79-4197-a3c7-f4698214d04b",
        "colab": {
          "base_uri": "https://localhost:8080/"
        }
      },
      "execution_count": null,
      "outputs": [
        {
          "output_type": "stream",
          "name": "stdout",
          "text": [
            "[NbConvertApp] Converting notebook /content/drive/MyDrive/Nyhus_Popper_Notebook.ipynb to html\n",
            "[NbConvertApp] Writing 656427 bytes to /content/drive/MyDrive/Nyhus_Popper_Notebook.html\n"
          ]
        },
        {
          "output_type": "execute_result",
          "data": {
            "text/plain": []
          },
          "metadata": {},
          "execution_count": 15
        }
      ]
    },
    {
      "cell_type": "code",
      "source": [
        "!git clone --depth 1 --filter=blob:none --sparse https://github.com/fivethirtyeight/data.git\n",
        "%cd data\n",
        "!git sparse-checkout init --cone\n",
        "!git sparse-checkout set nba-raptor\n",
        "raptor = pd.read_csv('/content/data/nba-raptor/modern_RAPTOR_by_player.csv')\n",
        "print(raptor.head())"
      ],
      "metadata": {
        "colab": {
          "base_uri": "https://localhost:8080/"
        },
        "id": "zJoCSUki35xE",
        "outputId": "d5fc5f6b-c228-46d6-bc4b-4d48207ba1a7"
      },
      "execution_count": null,
      "outputs": [
        {
          "output_type": "stream",
          "name": "stdout",
          "text": [
            "Cloning into 'data'...\n",
            "remote: Enumerating objects: 178, done.\u001b[K\n",
            "remote: Counting objects: 100% (178/178), done.\u001b[K\n",
            "remote: Compressing objects: 100% (158/158), done.\u001b[K\n",
            "remote: Total 178 (delta 0), reused 137 (delta 0), pack-reused 0\u001b[K\n",
            "Receiving objects: 100% (178/178), 36.19 KiB | 3.62 MiB/s, done.\n",
            "remote: Enumerating objects: 5, done.\u001b[K\n",
            "remote: Counting objects: 100% (5/5), done.\u001b[K\n",
            "remote: Compressing objects: 100% (4/4), done.\u001b[K\n",
            "remote: Total 5 (delta 0), reused 4 (delta 0), pack-reused 0\u001b[K\n",
            "Receiving objects: 100% (5/5), 12.05 KiB | 12.05 MiB/s, done.\n",
            "/content/data/data/data/data/data/data\n",
            "remote: Enumerating objects: 5, done.\u001b[K\n",
            "remote: Counting objects: 100% (5/5), done.\u001b[K\n",
            "remote: Compressing objects: 100% (3/3), done.\u001b[K\n",
            "remote: Total 5 (delta 2), reused 5 (delta 2), pack-reused 0\u001b[K\n",
            "Receiving objects: 100% (5/5), 3.76 MiB | 19.52 MiB/s, done.\n",
            "Resolving deltas: 100% (2/2), done.\n",
            "        player_name  player_id  season  poss    mp  raptor_box_offense  \\\n",
            "0      Alex Abrines  abrinal01    2017  2387  1135            0.745505   \n",
            "1      Alex Abrines  abrinal01    2018  2546  1244            0.317549   \n",
            "2      Alex Abrines  abrinal01    2019  1279   588           -3.215683   \n",
            "3  Precious Achiuwa  achiupr01    2021  1581   749           -4.122966   \n",
            "4  Precious Achiuwa  achiupr01    2022  3802  1892           -2.521510   \n",
            "\n",
            "   raptor_box_defense  raptor_box_total  raptor_onoff_offense  \\\n",
            "0           -0.372938          0.372567             -0.418553   \n",
            "1           -1.725325         -1.407776             -1.291727   \n",
            "2            1.078399         -2.137285             -6.158856   \n",
            "3            1.359278         -2.763688             -4.050779   \n",
            "4            1.763502         -0.758008             -1.687893   \n",
            "\n",
            "   raptor_onoff_defense  ...  raptor_offense  raptor_defense  raptor_total  \\\n",
            "0             -3.857011  ...        0.543421       -1.144832     -0.601411   \n",
            "1             -0.049694  ...       -0.020826       -1.502642     -1.523468   \n",
            "2              4.901168  ...       -4.040157        1.885618     -2.154538   \n",
            "3             -0.919712  ...       -4.347596        0.954821     -3.392775   \n",
            "4              3.103441  ...       -2.517372        2.144151     -0.373221   \n",
            "\n",
            "   war_total  war_reg_season  war_playoffs  predator_offense  \\\n",
            "0   1.249008        1.447708     -0.198700          0.077102   \n",
            "1   0.777304        0.465912      0.311392         -0.174621   \n",
            "2   0.178167        0.178167      0.000000         -4.577678   \n",
            "3  -0.246055       -0.246776      0.000721         -3.817713   \n",
            "4   2.262658        2.309611     -0.046953         -2.483956   \n",
            "\n",
            "   predator_defense  predator_total  pace_impact  \n",
            "0         -1.038677       -0.961575     0.326413  \n",
            "1         -1.112625       -1.287247    -0.456141  \n",
            "2          1.543282       -3.034396    -0.268013  \n",
            "3          0.474828       -3.342885     0.329157  \n",
            "4          2.024360       -0.459596    -0.728609  \n",
            "\n",
            "[5 rows x 21 columns]\n"
          ]
        }
      ]
    },
    {
      "cell_type": "code",
      "source": [
        "pd.read_csv('../data/nba-raptor/modern_RAPTOR_by_player')"
      ],
      "metadata": {
        "colab": {
          "base_uri": "https://localhost:8080/",
          "height": 179
        },
        "id": "Voj32aHH8zAy",
        "outputId": "5ebacf33-0a0f-418b-e4af-e0ee251aa418"
      },
      "execution_count": null,
      "outputs": [
        {
          "output_type": "error",
          "ename": "NameError",
          "evalue": "ignored",
          "traceback": [
            "\u001b[0;31m---------------------------------------------------------------------------\u001b[0m",
            "\u001b[0;31mNameError\u001b[0m                                 Traceback (most recent call last)",
            "\u001b[0;32m<ipython-input-3-1e1278713a2a>\u001b[0m in \u001b[0;36m<cell line: 1>\u001b[0;34m()\u001b[0m\n\u001b[0;32m----> 1\u001b[0;31m \u001b[0mpd\u001b[0m\u001b[0;34m.\u001b[0m\u001b[0mread_csv\u001b[0m\u001b[0;34m(\u001b[0m\u001b[0;34m'../data/nba-raptor/modern_RAPTOR_by_player'\u001b[0m\u001b[0;34m)\u001b[0m\u001b[0;34m\u001b[0m\u001b[0;34m\u001b[0m\u001b[0m\n\u001b[0m",
            "\u001b[0;31mNameError\u001b[0m: name 'pd' is not defined"
          ]
        }
      ]
    }
  ]
}